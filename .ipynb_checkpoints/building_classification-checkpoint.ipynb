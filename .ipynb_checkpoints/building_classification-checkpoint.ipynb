{
 "cells": [
  {
   "cell_type": "markdown",
   "id": "41f70fd1-da28-4966-a39e-ed17f778260d",
   "metadata": {},
   "source": [
    "## Import"
   ]
  },
  {
   "cell_type": "code",
   "execution_count": 2,
   "id": "9cb35032-7eb0-43a7-8971-f14c3e8b8a2d",
   "metadata": {},
   "outputs": [],
   "source": [
    "import os\n",
    "import numpy as np\n",
    "import pandas as pd\n",
    "from sklearn.model_selection import train_test_split\n",
    "from sklearn.metrics import classification_report, confusion_matrix\n",
    "import torch\n",
    "import torch.nn as nn\n",
    "import torch.optim as optim\n",
    "from torch.utils.data import DataLoader, Dataset\n",
    "from torchvision import transforms, models\n",
    "from PIL import Image"
   ]
  },
  {
   "cell_type": "markdown",
   "id": "65ddf083-7e4e-4329-9bc3-5810a7b9f39d",
   "metadata": {},
   "source": [
    "## Define Constants"
   ]
  },
  {
   "cell_type": "code",
   "execution_count": 4,
   "id": "816daafe-bc3f-4bb8-8eaf-fd87118e0f3d",
   "metadata": {},
   "outputs": [],
   "source": [
    "# Constants\n",
    "IMAGE_HEIGHT = 400\n",
    "IMAGE_WIDTH = 300\n",
    "BATCH_SIZE = 64\n",
    "\n",
    "# Paths for data\n",
    "data_dir = 'Data'  \n",
    "class_names = ['Bungalow', 'High-rise', 'Storey-Building']"
   ]
  },
  {
   "cell_type": "markdown",
   "id": "580e7813-4607-4959-8d6f-16c2f3fbf9b6",
   "metadata": {},
   "source": [
    "## Collect all file paths"
   ]
  },
  {
   "cell_type": "code",
   "execution_count": 6,
   "id": "ee458b74-5a02-44a5-a551-72ccc4880549",
   "metadata": {},
   "outputs": [],
   "source": [
    "# Collect image file paths and labels\n",
    "image_paths = []\n",
    "labels = []\n",
    "for class_name in class_names:\n",
    "    class_dir = os.path.join(data_dir, class_name)\n",
    "    for img in os.listdir(class_dir):\n",
    "        image_paths.append(os.path.join(class_dir, img))\n",
    "        labels.append(class_names.index(class_name))  # Convert class names to numerical labels\n",
    "\n",
    "df = pd.DataFrame({\"filepath\": image_paths, \"label\": labels})\n",
    "df = df.sample(frac=1).reset_index(drop=True)  # Shuffle dataset"
   ]
  },
  {
   "cell_type": "markdown",
   "id": "f5e50111-fc9c-43d7-b801-ffd6585d4231",
   "metadata": {},
   "source": [
    "## Split Data into Train, Validation and Test Sets"
   ]
  },
  {
   "cell_type": "code",
   "execution_count": 8,
   "id": "a7339263-f994-4275-ba0c-74f17e107a1c",
   "metadata": {},
   "outputs": [],
   "source": [
    "# Split into train, validation, and test sets\n",
    "train_df, temp_df = train_test_split(\n",
    "    df, test_size=0.4, stratify=df[\"label\"], random_state=42)\n",
    "val_df, test_df = train_test_split(\n",
    "    temp_df, test_size=0.5, stratify=temp_df[\"label\"], random_state=42)"
   ]
  },
  {
   "cell_type": "markdown",
   "id": "1e7fb4f4-6159-46f8-a14a-fdb2f48a3202",
   "metadata": {},
   "source": [
    "## Implement Data Generators and Preprocessing pipeline"
   ]
  },
  {
   "cell_type": "code",
   "execution_count": 10,
   "id": "27965213-9481-4d95-9cd2-227075480d67",
   "metadata": {},
   "outputs": [],
   "source": [
    "# Define image transformations\n",
    "transform = transforms.Compose([\n",
    "    transforms.Resize((IMAGE_HEIGHT, IMAGE_WIDTH)),\n",
    "    transforms.RandomHorizontalFlip(),\n",
    "    transforms.RandomRotation(20),\n",
    "    transforms.ColorJitter(brightness=0.2, contrast=0.2, saturation=0.2, hue=0.1),\n",
    "    transforms.ToTensor(),\n",
    "    transforms.Normalize(mean=[0.5, 0.5, 0.5], std=[0.5, 0.5, 0.5])\n",
    "])\n",
    "\n",
    "# Custom Dataset Class\n",
    "class CustomDataset(Dataset):\n",
    "    def __init__(self, dataframe, transform=None):\n",
    "        self.dataframe = dataframe\n",
    "        self.transform = transform\n",
    "    \n",
    "    def __len__(self):\n",
    "        return len(self.dataframe)\n",
    "    \n",
    "    def __getitem__(self, idx):\n",
    "        img_path = self.dataframe.iloc[idx]['filepath']\n",
    "        label = self.dataframe.iloc[idx]['label']\n",
    "        image = Image.open(img_path).convert(\"RGB\")\n",
    "        if self.transform:\n",
    "            image = self.transform(image)\n",
    "        return image, label\n",
    "\n",
    "# Create DataLoaders\n",
    "train_dataset = CustomDataset(train_df, transform=transform)\n",
    "val_dataset = CustomDataset(val_df, transform=transform)\n",
    "test_dataset = CustomDataset(test_df, transform=transform)\n",
    "\n",
    "train_loader = DataLoader(train_dataset, batch_size=BATCH_SIZE, shuffle=True)\n",
    "val_loader = DataLoader(val_dataset, batch_size=BATCH_SIZE, shuffle=False)\n",
    "test_loader = DataLoader(test_dataset, batch_size=BATCH_SIZE, shuffle=False)"
   ]
  },
  {
   "cell_type": "markdown",
   "id": "6a391c70-eeb6-4db1-8728-0897134ee1be",
   "metadata": {},
   "source": [
    "## Model Architecture"
   ]
  },
  {
   "cell_type": "code",
   "execution_count": 12,
   "id": "cb79685e-f8ec-481e-a031-fa8dfb7e7627",
   "metadata": {},
   "outputs": [],
   "source": [
    "# Define Model Architecture\n",
    "class CNNModel(nn.Module):\n",
    "    def __init__(self):\n",
    "        super(CNNModel, self).__init__()\n",
    "        self.conv1 = nn.Conv2d(3, 16, kernel_size=3, stride=1, padding=1)\n",
    "        self.pool = nn.MaxPool2d(kernel_size=2, stride=2)\n",
    "        self.conv2 = nn.Conv2d(16, 32, kernel_size=3, stride=1, padding=1)\n",
    "        self.conv3 = nn.Conv2d(32, 128, kernel_size=3, stride=1, padding=1)\n",
    "        self.fc1 = nn.Linear(128 * (IMAGE_HEIGHT // 8) * (IMAGE_WIDTH // 8), 256)\n",
    "        self.dropout = nn.Dropout(0.4)\n",
    "        self.fc2 = nn.Linear(256, len(class_names))\n",
    "    \n",
    "    def forward(self, x):\n",
    "        x = self.pool(torch.relu(self.conv1(x)))\n",
    "        x = self.pool(torch.relu(self.conv2(x)))\n",
    "        x = self.pool(torch.relu(self.conv3(x)))\n",
    "        x = x.view(x.size(0), -1)\n",
    "        x = torch.relu(self.fc1(x))\n",
    "        x = self.dropout(x)\n",
    "        x = self.fc2(x)\n",
    "        return x\n",
    "\n",
    "# Initialize Model\n",
    "device = torch.device(\"cuda\" if torch.cuda.is_available() else \"cpu\")\n",
    "model = CNNModel().to(device)\n",
    "# Define Loss and Optimizer\n",
    "criterion = nn.CrossEntropyLoss()\n",
    "optimizer = optim.Adam(model.parameters(), lr=0.0005)"
   ]
  },
  {
   "cell_type": "markdown",
   "id": "46a6b773-a630-4b2f-970f-5068547cefcd",
   "metadata": {},
   "source": [
    "## Train the Model"
   ]
  },
  {
   "cell_type": "code",
   "execution_count": null,
   "id": "2ce38310-9d41-4e1b-94e9-253b11bf2198",
   "metadata": {},
   "outputs": [],
   "source": [
    "# Training Loop\n",
    "EPOCHS = 15\n",
    "for epoch in range(EPOCHS):\n",
    "    model.train()\n",
    "    running_loss = 0.0\n",
    "    for images, labels in train_loader:\n",
    "        images, labels = images.to(device), labels.to(device)\n",
    "        optimizer.zero_grad()\n",
    "        outputs = model(images)\n",
    "        loss = criterion(outputs, labels)\n",
    "        loss.backward()\n",
    "        optimizer.step()\n",
    "        running_loss += loss.item()\n",
    "    print(f\"Epoch {epoch+1}/{EPOCHS}, Loss: {running_loss/len(train_loader):.4f}\")"
   ]
  },
  {
   "cell_type": "markdown",
   "id": "b0019081-56d6-4f17-a091-d5304017b8d2",
   "metadata": {},
   "source": [
    "## Evaluate the model"
   ]
  },
  {
   "cell_type": "code",
   "execution_count": null,
   "id": "250bb20f-b4aa-46db-84c2-b04747382864",
   "metadata": {},
   "outputs": [],
   "source": [
    "# Initialize empty lists to store the true labels and predictions\n",
    "true_labels = []\n",
    "predictions = []\n",
    "correct_predictions = 0\n",
    "total_predictions = 0\n",
    "\n",
    "# Set the model to evaluation mode\n",
    "model.eval()\n",
    "\n",
    "# Iterate over the test dataset\n",
    "with torch.no_grad():  # Disable gradient computation for evaluation\n",
    "    for inputs, labels in test_loader:\n",
    "        # Move data to the correct device (e.g., CPU or GPU)\n",
    "        inputs, labels = inputs.to(device), labels.to(device)\n",
    "        # Get model predictions\n",
    "        outputs = model(inputs)\n",
    "        # Apply softmax to get probabilities (if it's a classification task)\n",
    "        _, preds = torch.max(outputs, 1)\n",
    "        # Count correct predictions\n",
    "        correct_predictions += torch.sum(preds == labels).item()\n",
    "        total_predictions += labels.size(0)\n",
    "        # Append true labels and predicted labels to the lists\n",
    "        true_labels.extend(labels.cpu().numpy())\n",
    "        predictions.extend(preds.cpu().numpy())\n",
    "\n",
    "# Calculate accuracy\n",
    "accuracy = correct_predictions / total_predictions\n",
    "print(f'Test accuracy: {accuracy*100:.2f}%')"
   ]
  },
  {
   "cell_type": "markdown",
   "id": "1a9d33de-dd62-482d-973d-2b64b89d2d2b",
   "metadata": {},
   "source": [
    "## Other evaluation matrices we can use"
   ]
  },
  {
   "cell_type": "code",
   "execution_count": null,
   "id": "8b0dcf02-f1a8-480b-80ca-5c625b5736b4",
   "metadata": {},
   "outputs": [],
   "source": [
    "# Convert lists to numpy arrays\n",
    "true_labels = np.array(true_labels)\n",
    "predictions = np.array(predictions)\n",
    "\n",
    "# Generate confusion matrix\n",
    "conf_matrix = confusion_matrix(true_labels, predictions)\n",
    "\n",
    "# Generate classification report\n",
    "class_report = classification_report(true_labels, predictions)\n",
    "\n",
    "# Display the results\n",
    "print(\"Confusion Matrix:\")\n",
    "print(conf_matrix)\n",
    "\n",
    "print(\"\\nClassification Report:\")\n",
    "print(class_report)\n"
   ]
  },
  {
   "cell_type": "markdown",
   "id": "644d01ec-2e7e-496c-80d9-304de26e8800",
   "metadata": {},
   "source": [
    "## Save the model"
   ]
  },
  {
   "cell_type": "code",
   "execution_count": null,
   "id": "0ac3043c-4cd1-44b0-9b3d-038bc5466788",
   "metadata": {},
   "outputs": [],
   "source": [
    "# Save the model\n",
    "torch.save(model.state_dict(), 'cnn_model.pth')"
   ]
  },
  {
   "cell_type": "markdown",
   "id": "8cc1a620-367d-4a25-9d80-a6566d8d7bd4",
   "metadata": {},
   "source": [
    "## Run model on API"
   ]
  },
  {
   "cell_type": "code",
   "execution_count": 66,
   "id": "704f1795-6fcc-4ffd-aa35-75d57aec833b",
   "metadata": {},
   "outputs": [],
   "source": [
    "# Run on Terminal\n",
    "# uvicorn main:app --reload"
   ]
  },
  {
   "cell_type": "code",
   "execution_count": null,
   "id": "5ee60e80-2a5f-45dd-9dbb-3ac335e1150a",
   "metadata": {},
   "outputs": [],
   "source": []
  }
 ],
 "metadata": {
  "kernelspec": {
   "display_name": "Python [conda env:base] *",
   "language": "python",
   "name": "conda-base-py"
  },
  "language_info": {
   "codemirror_mode": {
    "name": "ipython",
    "version": 3
   },
   "file_extension": ".py",
   "mimetype": "text/x-python",
   "name": "python",
   "nbconvert_exporter": "python",
   "pygments_lexer": "ipython3",
   "version": "3.12.3"
  }
 },
 "nbformat": 4,
 "nbformat_minor": 5
}
